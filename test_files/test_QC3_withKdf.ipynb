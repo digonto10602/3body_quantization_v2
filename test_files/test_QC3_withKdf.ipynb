{
 "cells": [
  {
   "cell_type": "code",
   "execution_count": 2,
   "metadata": {},
   "outputs": [],
   "source": [
    "#In this file we will read the ultra HQ F3 data file\n",
    "#and use it to plot the determinant condition \n",
    "# 1 + F3iso/N * K3iso with a fixed K3iso \n",
    "# N is the normalization squared \n",
    "\n",
    "import numpy as np \n",
    "import matplotlib as mpl \n",
    "import matplotlib.pyplot as plt \n",
    "import scipy.interpolate\n",
    "from mpl_toolkits.axes_grid1 import make_axes_locatable\n",
    "import os.path\n",
    "from scipy.optimize import curve_fit\n",
    "import scipy.interpolate\n",
    "import pandas as pd\n",
    "import plotly.validators.scatter.marker\n"
   ]
  },
  {
   "cell_type": "code",
   "execution_count": 3,
   "metadata": {},
   "outputs": [],
   "source": [
    "def QC3_test_one_parameter(K3iso, EcmR, F3iso, sqrtN):\n",
    "    QC3 = np.zeros((len(EcmR)))\n",
    "    \n",
    "    for i in range(len(F3iso)):\n",
    "        N = sqrtN[i]*sqrtN[i]\n",
    "        QC3[i] = 1.0/F3iso[i] + K3iso \n",
    "\n",
    "    return QC3 \n",
    "\n",
    "def QC3_test_two_parameter(K3iso_0, K3iso_1, EcmR, F3iso, sqrtN):\n",
    "    QC3 = np.zeros((len(EcmR)))\n",
    "    \n",
    "    for i in range(len(F3iso)):\n",
    "        N = sqrtN[i]*sqrtN[i]\n",
    "        K3iso = K3iso_0 + EcmR[i]*EcmR[i]*K3iso_1\n",
    "        QC3[i] = 1.0/F3iso[i] + K3iso \n",
    "\n",
    "    return QC3 "
   ]
  },
  {
   "cell_type": "code",
   "execution_count": 4,
   "metadata": {},
   "outputs": [],
   "source": [
    "def QC3_plotter(EcmR, QC3, spec_Ecm, non_int, x_min, x_max, y_min, y_max):\n",
    "    fig,ax = plt.subplots(figsize=(10,5))\n",
    "    ax.set_xlim(x_min,x_max)\n",
    "    ax.set_ylim(y_min,y_max)\n",
    "    ax.tick_params(axis='both', which='major', labelsize=25)\n",
    "    ax.tick_params(axis='both', which='minor', labelsize=25)\n",
    "    ax.plot(EcmR,QC3, linewidth=2, zorder=4)\n",
    "    ax.scatter(non_int,np.zeros((len(non_int))), marker='o', s=100, linewidth=2,edgecolor=\"green\", facecolor='white',zorder=7,label=\"non-int\")\n",
    "    ax.scatter(spec_Ecm,np.zeros((len(spec_Ecm))), marker='o', s=50, linewidth=2,edgecolor=\"red\", facecolor='white',zorder=7,label=\"KKpi spec\")\n",
    "    ax.axhline(y=0,linestyle='--',color='black',zorder=2)\n",
    "\n",
    "    ax.legend()\n",
    "    \n",
    "    fig.tight_layout()\n",
    "    plt.draw()\n",
    "    "
   ]
  },
  {
   "cell_type": "code",
   "execution_count": 5,
   "metadata": {},
   "outputs": [
    {
     "ename": "FileNotFoundError",
     "evalue": "/Users/digonto/GitHub/3body_quantization/lattice_data/KKpi_interacting_spectrum/Three_body/L_20_only/KKpi_spectrum.000_A1m not found.",
     "output_type": "error",
     "traceback": [
      "\u001b[0;31m---------------------------------------------------------------------------\u001b[0m",
      "\u001b[0;31mFileNotFoundError\u001b[0m                         Traceback (most recent call last)",
      "Cell \u001b[0;32mIn[5], line 13\u001b[0m\n\u001b[1;32m     10\u001b[0m KKpi_spectrum_file_drive \u001b[38;5;241m=\u001b[39m \u001b[38;5;124m\"\u001b[39m\u001b[38;5;124m/Users/digonto/GitHub/3body_quantization/lattice_data/KKpi_interacting_spectrum/Three_body/L_20_only/\u001b[39m\u001b[38;5;124m\"\u001b[39m\n\u001b[1;32m     12\u001b[0m KKpi_spectrum_file \u001b[38;5;241m=\u001b[39m KKpi_spectrum_file_drive \u001b[38;5;241m+\u001b[39m \u001b[38;5;124m\"\u001b[39m\u001b[38;5;124mKKpi_spectrum.000_A1m\u001b[39m\u001b[38;5;124m\"\u001b[39m\n\u001b[0;32m---> 13\u001b[0m (spec_L, spec_Ecm, spec_Ecm_err1, spec_Ecm_err2) \u001b[38;5;241m=\u001b[39m \u001b[43mnp\u001b[49m\u001b[38;5;241;43m.\u001b[39;49m\u001b[43mgenfromtxt\u001b[49m\u001b[43m(\u001b[49m\u001b[43mKKpi_spectrum_file\u001b[49m\u001b[43m,\u001b[49m\u001b[43m \u001b[49m\u001b[43munpack\u001b[49m\u001b[38;5;241;43m=\u001b[39;49m\u001b[38;5;28;43;01mTrue\u001b[39;49;00m\u001b[43m)\u001b[49m\n\u001b[1;32m     15\u001b[0m non_int_file_drive1 \u001b[38;5;241m=\u001b[39m \u001b[38;5;124m\"\u001b[39m\u001b[38;5;124m/Users/digonto/GitHub/3body_quantization/test_files/L20_3body_nonint_spec_points/\u001b[39m\u001b[38;5;124m\"\u001b[39m\n\u001b[1;32m     16\u001b[0m non_int_spectrum_file \u001b[38;5;241m=\u001b[39m non_int_file_drive1 \u001b[38;5;241m+\u001b[39m \u001b[38;5;124m\"\u001b[39m\u001b[38;5;124m3body_non_int_points_using_c_code_L20_P000.dat\u001b[39m\u001b[38;5;124m\"\u001b[39m\n",
      "File \u001b[0;32m~/anaconda3/lib/python3.9/site-packages/numpy/lib/npyio.py:1813\u001b[0m, in \u001b[0;36mgenfromtxt\u001b[0;34m(fname, dtype, comments, delimiter, skip_header, skip_footer, converters, missing_values, filling_values, usecols, names, excludelist, deletechars, replace_space, autostrip, case_sensitive, defaultfmt, unpack, usemask, loose, invalid_raise, max_rows, encoding, like)\u001b[0m\n\u001b[1;32m   1811\u001b[0m     fname \u001b[38;5;241m=\u001b[39m os_fspath(fname)\n\u001b[1;32m   1812\u001b[0m \u001b[38;5;28;01mif\u001b[39;00m \u001b[38;5;28misinstance\u001b[39m(fname, \u001b[38;5;28mstr\u001b[39m):\n\u001b[0;32m-> 1813\u001b[0m     fid \u001b[38;5;241m=\u001b[39m \u001b[43mnp\u001b[49m\u001b[38;5;241;43m.\u001b[39;49m\u001b[43mlib\u001b[49m\u001b[38;5;241;43m.\u001b[39;49m\u001b[43m_datasource\u001b[49m\u001b[38;5;241;43m.\u001b[39;49m\u001b[43mopen\u001b[49m\u001b[43m(\u001b[49m\u001b[43mfname\u001b[49m\u001b[43m,\u001b[49m\u001b[43m \u001b[49m\u001b[38;5;124;43m'\u001b[39;49m\u001b[38;5;124;43mrt\u001b[39;49m\u001b[38;5;124;43m'\u001b[39;49m\u001b[43m,\u001b[49m\u001b[43m \u001b[49m\u001b[43mencoding\u001b[49m\u001b[38;5;241;43m=\u001b[39;49m\u001b[43mencoding\u001b[49m\u001b[43m)\u001b[49m\n\u001b[1;32m   1814\u001b[0m     fid_ctx \u001b[38;5;241m=\u001b[39m contextlib\u001b[38;5;241m.\u001b[39mclosing(fid)\n\u001b[1;32m   1815\u001b[0m \u001b[38;5;28;01melse\u001b[39;00m:\n",
      "File \u001b[0;32m~/anaconda3/lib/python3.9/site-packages/numpy/lib/_datasource.py:193\u001b[0m, in \u001b[0;36mopen\u001b[0;34m(path, mode, destpath, encoding, newline)\u001b[0m\n\u001b[1;32m    156\u001b[0m \u001b[38;5;250m\u001b[39m\u001b[38;5;124;03m\"\"\"\u001b[39;00m\n\u001b[1;32m    157\u001b[0m \u001b[38;5;124;03mOpen `path` with `mode` and return the file object.\u001b[39;00m\n\u001b[1;32m    158\u001b[0m \n\u001b[0;32m   (...)\u001b[0m\n\u001b[1;32m    189\u001b[0m \n\u001b[1;32m    190\u001b[0m \u001b[38;5;124;03m\"\"\"\u001b[39;00m\n\u001b[1;32m    192\u001b[0m ds \u001b[38;5;241m=\u001b[39m DataSource(destpath)\n\u001b[0;32m--> 193\u001b[0m \u001b[38;5;28;01mreturn\u001b[39;00m \u001b[43mds\u001b[49m\u001b[38;5;241;43m.\u001b[39;49m\u001b[43mopen\u001b[49m\u001b[43m(\u001b[49m\u001b[43mpath\u001b[49m\u001b[43m,\u001b[49m\u001b[43m \u001b[49m\u001b[43mmode\u001b[49m\u001b[43m,\u001b[49m\u001b[43m \u001b[49m\u001b[43mencoding\u001b[49m\u001b[38;5;241;43m=\u001b[39;49m\u001b[43mencoding\u001b[49m\u001b[43m,\u001b[49m\u001b[43m \u001b[49m\u001b[43mnewline\u001b[49m\u001b[38;5;241;43m=\u001b[39;49m\u001b[43mnewline\u001b[49m\u001b[43m)\u001b[49m\n",
      "File \u001b[0;32m~/anaconda3/lib/python3.9/site-packages/numpy/lib/_datasource.py:532\u001b[0m, in \u001b[0;36mDataSource.open\u001b[0;34m(self, path, mode, encoding, newline)\u001b[0m\n\u001b[1;32m    529\u001b[0m     \u001b[38;5;28;01mreturn\u001b[39;00m _file_openers[ext](found, mode\u001b[38;5;241m=\u001b[39mmode,\n\u001b[1;32m    530\u001b[0m                               encoding\u001b[38;5;241m=\u001b[39mencoding, newline\u001b[38;5;241m=\u001b[39mnewline)\n\u001b[1;32m    531\u001b[0m \u001b[38;5;28;01melse\u001b[39;00m:\n\u001b[0;32m--> 532\u001b[0m     \u001b[38;5;28;01mraise\u001b[39;00m \u001b[38;5;167;01mFileNotFoundError\u001b[39;00m(\u001b[38;5;124mf\u001b[39m\u001b[38;5;124m\"\u001b[39m\u001b[38;5;132;01m{\u001b[39;00mpath\u001b[38;5;132;01m}\u001b[39;00m\u001b[38;5;124m not found.\u001b[39m\u001b[38;5;124m\"\u001b[39m)\n",
      "\u001b[0;31mFileNotFoundError\u001b[0m: /Users/digonto/GitHub/3body_quantization/lattice_data/KKpi_interacting_spectrum/Three_body/L_20_only/KKpi_spectrum.000_A1m not found."
     ]
    }
   ],
   "source": [
    "# First we work with the rest frame data P=000\n",
    "plt.rcParams.update({'font.size': 22})\n",
    "plt.rc('font',**{'family':'serif','serif':['Computer Modern Roman']})\n",
    "plt.rc('text', usetex=True)\n",
    "\n",
    "F3file = \"ultraHQ_F3_for_pole_KKpi_L20_nP_000.dat\"\n",
    "(En, EcmR, norm, F3, \n",
    "     F2, G, K2i, H) = np.genfromtxt(F3file, unpack=True)\n",
    "\n",
    "KKpi_spectrum_file_drive = \"/Users/digonto/GitHub/3body_quantization/lattice_data/KKpi_interacting_spectrum/Three_body/L_20_only/\"\n",
    "\n",
    "KKpi_spectrum_file = KKpi_spectrum_file_drive + \"KKpi_spectrum.000_A1m\"\n",
    "(spec_L, spec_Ecm, spec_Ecm_err1, spec_Ecm_err2) = np.genfromtxt(KKpi_spectrum_file, unpack=True)\n",
    "\n",
    "non_int_file_drive1 = \"/Users/digonto/GitHub/3body_quantization/test_files/L20_3body_nonint_spec_points/\"\n",
    "non_int_spectrum_file = non_int_file_drive1 + \"3body_non_int_points_using_c_code_L20_P000.dat\"\n",
    "\n",
    "non_int = np.genfromtxt(non_int_spectrum_file, unpack=True)\n",
    "\n",
    "K3iso = 1400000\n",
    "QC3 = QC3_test_one_parameter(K3iso,EcmR, F3, norm)\n",
    "\n",
    "xmin = 0.262\n",
    "xmax = 0.4\n",
    "ymin = -10000000.51\n",
    "ymax = 10000000.5\n",
    "QC3_plotter(EcmR,QC3,spec_Ecm,non_int,xmin,xmax,ymin,ymax)\n",
    "\n",
    "#Two parameter K3iso \n",
    "K3iso0 = 1400000\n",
    "K3iso1 = 100\n",
    "QC3 = QC3_test_two_parameter(K3iso0,K3iso1,EcmR, F3, norm)\n",
    "\n",
    "xmin = 0.262\n",
    "xmax = 0.4\n",
    "ymin = -10000000.51\n",
    "ymax = 10000000.5\n",
    "QC3_plotter(EcmR,QC3,spec_Ecm,non_int,xmin,xmax,ymin,ymax)\n"
   ]
  },
  {
   "cell_type": "code",
   "execution_count": null,
   "metadata": {},
   "outputs": [],
   "source": []
  }
 ],
 "metadata": {
  "kernelspec": {
   "display_name": "base",
   "language": "python",
   "name": "python3"
  },
  "language_info": {
   "codemirror_mode": {
    "name": "ipython",
    "version": 3
   },
   "file_extension": ".py",
   "mimetype": "text/x-python",
   "name": "python",
   "nbconvert_exporter": "python",
   "pygments_lexer": "ipython3",
   "version": "3.9.13"
  }
 },
 "nbformat": 4,
 "nbformat_minor": 2
}
